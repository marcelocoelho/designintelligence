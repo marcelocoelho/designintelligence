{
  "nbformat": 4,
  "nbformat_minor": 0,
  "metadata": {
    "colab": {
      "name": "assignment_3.ipynb",
      "provenance": []
    },
    "kernelspec": {
      "name": "python3",
      "display_name": "Python 3"
    },
    "language_info": {
      "name": "python"
    },
    "accelerator": "GPU"
  },
  "cells": [
    {
      "cell_type": "markdown",
      "source": [
        "Exercise 3"
      ],
      "metadata": {
        "id": "Sq-J2bHGb12x"
      }
    },
    {
      "cell_type": "markdown",
      "source": [
        "STEP 1 - import your drive into colab session"
      ],
      "metadata": {
        "id": "L-DSKV8acD8f"
      }
    },
    {
      "cell_type": "code",
      "execution_count": null,
      "metadata": {
        "colab": {
          "base_uri": "https://localhost:8080/"
        },
        "id": "J9r1e7TCb1Yk",
        "outputId": "2e85d6f6-4c88-4701-bccb-b2d0e13e93bb"
      },
      "outputs": [
        {
          "output_type": "stream",
          "name": "stdout",
          "text": [
            "Mounted at /content/drive\n"
          ]
        }
      ],
      "source": [
        "from google.colab import drive\n",
        "drive.mount('/content/drive')"
      ]
    },
    {
      "cell_type": "markdown",
      "source": [
        "We will use tensorflow 1"
      ],
      "metadata": {
        "id": "PYYtt62lM3Vv"
      }
    },
    {
      "cell_type": "code",
      "source": [
        "%tensorflow_version 1.x"
      ],
      "metadata": {
        "colab": {
          "base_uri": "https://localhost:8080/"
        },
        "id": "ZNKCJEVKklAY",
        "outputId": "d32f13a8-1e8f-4c08-b353-c8bba8d7053e"
      },
      "execution_count": null,
      "outputs": [
        {
          "output_type": "stream",
          "name": "stdout",
          "text": [
            "TensorFlow 1.x selected.\n"
          ]
        }
      ]
    },
    {
      "cell_type": "markdown",
      "source": [
        "NOTE= make sure it installs keras 2.2.4. \n",
        "If keras 2.2.4 doesn't install the first time. run the cell again"
      ],
      "metadata": {
        "id": "VToj6ldYM6iU"
      }
    },
    {
      "cell_type": "code",
      "source": [
        "!pip3 install keras==2.2.4"
      ],
      "metadata": {
        "id": "G-FtRr46klpP"
      },
      "execution_count": null,
      "outputs": []
    },
    {
      "cell_type": "markdown",
      "source": [
        "STEP 2 - Do the necessary imports"
      ],
      "metadata": {
        "id": "tTEnBZS_NfyV"
      }
    },
    {
      "cell_type": "code",
      "source": [
        "import keras\n",
        "from keras.models import Sequential, Model, Input\n",
        "from keras.layers.advanced_activations import LeakyReLU\n",
        "from keras.layers import Dense\n",
        "from keras.layers import Conv2D\n",
        "from keras.layers import Conv2DTranspose\n",
        "from keras.layers import MaxPool2D, AvgPool2D\n",
        "from keras.layers import UpSampling2D\n",
        "from keras.layers import Lambda\n",
        "from keras.layers import Activation\n",
        "from keras.layers import BatchNormalization\n",
        "from keras.layers import Flatten\n",
        "from keras.layers import Reshape\n",
        "from keras.layers import Add, Multiply\n",
        "from keras.losses import mse, binary_crossentropy\n",
        "import keras.backend as K\n",
        "import numpy as np\n",
        "from google.colab import output\n"
      ],
      "metadata": {
        "id": "P9bpwLcvid1d"
      },
      "execution_count": null,
      "outputs": []
    },
    {
      "cell_type": "markdown",
      "source": [
        "STEP 3\n",
        "1.   Save your P5js app to a dropbox folder\n",
        "2.   Right click and select 'copy dropbox link'\n",
        "3.   Use the copied link with the code below. You need to delete everything after the .tar extension\n",
        "\n"
      ],
      "metadata": {
        "id": "p-S1y_WocH8_"
      }
    },
    {
      "cell_type": "code",
      "source": [
        "#get the dataset\n",
        "\n",
        "#replace with your own dropbox link.\n",
        "!wget https://www.dropbox.com/s/3zfed5lrqqqp0j1/line7.tar\n",
        "\n",
        "output.clear()"
      ],
      "metadata": {
        "id": "d4hk9wN3b7V1"
      },
      "execution_count": null,
      "outputs": []
    },
    {
      "cell_type": "markdown",
      "source": [
        "STEP 4 - untar (decompress) the files to the images folder"
      ],
      "metadata": {
        "id": "xki-8g9Wc6s4"
      }
    },
    {
      "cell_type": "code",
      "source": [
        "#untar\n",
        "!mkdir imgs #mak the images folder  \n",
        "!tar -xvf  'line7.tar' -C '/content/imgs'\n",
        "output.clear()\n"
      ],
      "metadata": {
        "id": "fg73nQsIc6Cm"
      },
      "execution_count": null,
      "outputs": []
    },
    {
      "cell_type": "markdown",
      "source": [
        "STEP 5 - Process the images converting everything to B&W and adding them to a numpy array"
      ],
      "metadata": {
        "id": "QxJEjNg9dHZX"
      }
    },
    {
      "cell_type": "code",
      "source": [
        "#necessary imports\n",
        "import os \n",
        "import matplotlib.pyplot as plt \n",
        "import cv2 \n",
        "import numpy as np \n",
        "from tqdm import tqdm\n",
        "from PIL import Image\n",
        "\n",
        "#image to numpy array\n",
        "\n",
        "img_data = []\n",
        "\n",
        "#We iterate over the imgs folder, reshape the images to (28x28x1)\n",
        "#and save them to the img_data array\n",
        "\n",
        "for img in tqdm(os.listdir('/content/imgs')):\n",
        "    currentImage= '/content/imgs/' + img\n",
        "    img_array = cv2.imread(currentImage)\n",
        "    gray = cv2. cvtColor(img_array, cv2.COLOR_BGR2GRAY)\n",
        "    gray = np.expand_dims(gray, 2)\n",
        "    img_data.append(gray) \n",
        "img_data = np.array(img_data)\n",
        "\n",
        "print(img_data[0].shape) #print the shape"
      ],
      "metadata": {
        "colab": {
          "base_uri": "https://localhost:8080/"
        },
        "id": "oxJAg8tgdJdC",
        "outputId": "62521b52-ab70-44f9-8987-98adcba7f8ab"
      },
      "execution_count": null,
      "outputs": [
        {
          "output_type": "stream",
          "name": "stderr",
          "text": [
            "100%|██████████| 999/999 [00:00<00:00, 11056.17it/s]"
          ]
        },
        {
          "output_type": "stream",
          "name": "stdout",
          "text": [
            "(28, 28, 1)\n"
          ]
        },
        {
          "output_type": "stream",
          "name": "stderr",
          "text": [
            "\n"
          ]
        }
      ]
    },
    {
      "cell_type": "markdown",
      "source": [
        "STEP 6 - set values for our network "
      ],
      "metadata": {
        "id": "7kBhIW12OO8W"
      }
    },
    {
      "cell_type": "code",
      "source": [
        "#NUMBER OF DIMENSIONS IN THE LATENT SPACE\n",
        "latent_dims = 768"
      ],
      "metadata": {
        "id": "Oqkuq3F2ihhL"
      },
      "execution_count": null,
      "outputs": []
    },
    {
      "cell_type": "markdown",
      "source": [
        "Step 7 - Create the VAE decoder Network"
      ],
      "metadata": {
        "id": "Juz8u45jv0xU"
      }
    },
    {
      "cell_type": "code",
      "source": [
        "from IPython.core.display import clear_output\n",
        "encoder_in = Input(shape=(28,28,1))  \n",
        "\n",
        "encoder_l1 = Conv2D(filters=32, kernel_size=5, strides=1, padding='same',name = 'c11', input_shape=(28,28,1))(encoder_in)\n",
        "encoder_l1 = BatchNormalization(name = '1b1')(encoder_l1)\n",
        "encoder_l1 = LeakyReLU(0.2,name = '1r1')(encoder_l1)\n",
        "\n",
        "encoder_l1 = Conv2D(filters=64, kernel_size=5, strides=2, padding='same',name = 'c12')(encoder_l1)\n",
        "encoder_l1 = BatchNormalization(name = 'b12')(encoder_l1)\n",
        "encoder_l1 = LeakyReLU(0.2,name = 'r12')(encoder_l1)\n",
        "\n",
        "\n",
        "encoder_l2 = Conv2D(filters=128, kernel_size=5, strides=2, padding='same',name = 'c13')(encoder_l1)\n",
        "encoder_l2 = BatchNormalization(name = 'b13')(encoder_l2)\n",
        "encoder_l2 = LeakyReLU(0.2,name = 'r13')(encoder_l2)\n",
        "\n",
        "encoder_l3 = Conv2D(filters=256, kernel_size=5, strides=2, padding='same',name = 'c14')(encoder_l2)\n",
        "encoder_l3 = BatchNormalization(name = 'b14')(encoder_l3)\n",
        "encoder_l3 = LeakyReLU(0.2,name = 'r14')(encoder_l3)\n",
        "\n",
        "\n",
        "encoder_l4 = Conv2D(filters=512, kernel_size=5, strides=2, padding='same',name = 'c15')(encoder_l3)\n",
        "encoder_l4 = BatchNormalization(name = 'b15')(encoder_l4)\n",
        "encoder_l4 = LeakyReLU(0.2,name = 'r15')(encoder_l4)\n",
        "\n",
        "flatten = Flatten(name = 'r125')(encoder_l4)\n",
        "\n",
        "encoder_dense = Dense(1024)(flatten)\n",
        "encoder_dense = BatchNormalization(name = 'br15')(encoder_dense)\n",
        "encoder_out = LeakyReLU(0.2,name = 'r1115')(encoder_dense)\n",
        "\n",
        "\n",
        "mu = Dense(latent_dims)(encoder_out)\n",
        "log_var = Dense(latent_dims)(encoder_out)\n",
        "\n",
        "\n",
        "epsilon = Input(tensor=K.random_normal(shape=(K.shape(mu)[0], latent_dims)))  ##INPUT EPSILON FOR RANDOM SAMPLING\n",
        "\n",
        "sigma = Lambda(lambda x: K.exp(0.5 * x))(log_var) # CHANGE log_var INTO STANDARD DEVIATION(sigma)\n",
        "z_eps = Multiply()([sigma, epsilon])\n",
        "\n",
        "z = Add()([mu, z_eps])\n",
        "\n",
        "encoder=Model([encoder_in,epsilon], z)\n",
        "encoder.summary()\n",
        "clear_output()"
      ],
      "metadata": {
        "id": "R7qvTvFhiU8p"
      },
      "execution_count": null,
      "outputs": []
    },
    {
      "cell_type": "markdown",
      "source": [
        "Step 8 - Create the VAE decoder Network"
      ],
      "metadata": {
        "id": "UZUCe5mNdZra"
      }
    },
    {
      "cell_type": "code",
      "source": [
        "decoder = Sequential()\n",
        "decoder.add(Dense(1024, input_shape=(latent_dims,)))\n",
        "decoder.add(BatchNormalization(name = 'b1'))\n",
        "decoder.add(LeakyReLU(0.2,name = 'r1'))\n",
        "\n",
        "decoder.add(Dense(2048))\n",
        "decoder.add(BatchNormalization(name = 'b2'))\n",
        "decoder.add(LeakyReLU(0.2,name = 'r2'))\n",
        "\n",
        "decoder.add(Reshape(target_shape=(2,2,512)))\n",
        "\n",
        "decoder.add(Conv2DTranspose(filters=256, kernel_size=5, strides=2, padding='same',name = 'c1'))\n",
        "decoder.add(BatchNormalization(name = 'b3'))\n",
        "decoder.add(LeakyReLU(0.2,name = 'r3'))\n",
        "\n",
        "decoder.add(Conv2DTranspose(filters=128, kernel_size=5, strides=3, padding='same',name = 'c2'))\n",
        "decoder.add(BatchNormalization(name = 'b4'))\n",
        "decoder.add(LeakyReLU(0.2,name = 'r4'))\n",
        "\n",
        "decoder.add(Conv2DTranspose(filters=64, kernel_size=5, strides=2, padding='same',name = 'c3'))\n",
        "decoder.add(BatchNormalization(name = 'b5'))\n",
        "decoder.add(LeakyReLU(0.2,name = 'r5'))\n",
        "\n",
        "decoder.add(Conv2DTranspose(filters=32, kernel_size=5, strides=1, padding='valid',name = 'c33'))\n",
        "decoder.add(BatchNormalization(name = 'b35'))\n",
        "decoder.add(LeakyReLU(0.2,name = 'r35'))\n",
        "\n",
        "decoder.add(Conv2DTranspose(filters=1, kernel_size=5,activation = 'sigmoid',strides=1, padding='same',name = 'c5'))\n",
        "decoder.add(BatchNormalization(name = 'b7'))\n",
        "decoder.add(Activation('sigmoid'))\n",
        "\n",
        "decoder.summary()\n",
        "\n",
        "clear_output()"
      ],
      "metadata": {
        "id": "eBsVYK2oipSA"
      },
      "execution_count": null,
      "outputs": []
    },
    {
      "cell_type": "markdown",
      "source": [
        "STEP 9 -  create the full network "
      ],
      "metadata": {
        "id": "nmGANnQfaXjk"
      }
    },
    {
      "cell_type": "code",
      "source": [
        "# COMBINING ENCODER AND DECODER TO COMPLETE THE VARIATIONAL AUTO ENCODER\n",
        "vae_preds = decoder(z)\n",
        "vae = Model([encoder_in, epsilon], vae_preds)\n",
        "vae.summary()"
      ],
      "metadata": {
        "id": "P4mkL4r7kO6X"
      },
      "execution_count": null,
      "outputs": []
    },
    {
      "cell_type": "markdown",
      "source": [
        "STEP 10 - Set loss for reconstruction using MSE and KL LOSS"
      ],
      "metadata": {
        "id": "teG7YybdOdso"
      }
    },
    {
      "cell_type": "markdown",
      "source": [
        "![image.png](data:image/png;base64,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)"
      ],
      "metadata": {
        "id": "yUfNr4IiOrSS"
      }
    },
    {
      "cell_type": "markdown",
      "source": [
        "![image.png](data:image/png;base64,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)"
      ],
      "metadata": {
        "id": "2JQuYLKlOuhk"
      }
    },
    {
      "cell_type": "markdown",
      "source": [
        "![image.png](data:image/png;base64,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)\n"
      ],
      "metadata": {
        "id": "oRekOtgNO3CD"
      }
    },
    {
      "cell_type": "code",
      "source": [
        "def reconstruction_loss(y_true, y_pred):\n",
        "    return K.mean(K.square(y_true - y_pred))\n",
        "\n",
        "def kl_loss(y_true, y_pred):\n",
        "    kl_loss = - 0.5 * K.mean(1 + log_var - K.square(mu) - K.exp(log_var), axis=-1)\n",
        "    return kl_loss\n",
        "\n",
        "def vae_loss(y_true, y_pred):\n",
        "    return reconstruction_loss(y_true, y_pred) + 0.03 * kl_loss(y_true, y_pred)   #scaling kl_loss by 0.03 seem to help\n"
      ],
      "metadata": {
        "id": "OkDErbFMkTz3"
      },
      "execution_count": null,
      "outputs": []
    },
    {
      "cell_type": "markdown",
      "source": [
        "STEP 11 -  set compiolation parameters and compile VAE"
      ],
      "metadata": {
        "id": "5XlF_3n_O_bb"
      }
    },
    {
      "cell_type": "code",
      "source": [
        "c = keras.callbacks.EarlyStopping(\n",
        "    monitor=\"val_loss\",\n",
        "    min_delta=0,\n",
        "    patience=0,\n",
        "    verbose=0,\n",
        "    mode=\"auto\",\n",
        "    baseline=None,\n",
        "    restore_best_weights=False,\n",
        ")\n",
        "vae.compile(optimizer='adam', loss=vae_loss , metrics=[reconstruction_loss, kl_loss])"
      ],
      "metadata": {
        "colab": {
          "base_uri": "https://localhost:8080/"
        },
        "id": "SEsqHOmNkWWB",
        "outputId": "c98b149e-09bb-49da-94f4-dce4cf83be61"
      },
      "execution_count": null,
      "outputs": [
        {
          "output_type": "stream",
          "name": "stdout",
          "text": [
            "WARNING:tensorflow:From /usr/local/lib/python3.7/dist-packages/keras/optimizers.py:790: The name tf.train.Optimizer is deprecated. Please use tf.compat.v1.train.Optimizer instead.\n",
            "\n"
          ]
        }
      ]
    },
    {
      "cell_type": "markdown",
      "source": [
        "STEP 12 - Train the network."
      ],
      "metadata": {
        "id": "5x3cms3ePEo6"
      }
    },
    {
      "cell_type": "code",
      "source": [
        "#epochs\n",
        "e= 200\n",
        "#batch_size\n",
        "bs= 64\n",
        "#normalize data\n",
        "data= img_data.astype(\"float32\")/255 \n",
        "\n",
        "vae.fit(data,img_data,epochs=e, batch_size=bs)"
      ],
      "metadata": {
        "id": "qy6pVEWFkYUu"
      },
      "execution_count": null,
      "outputs": []
    },
    {
      "cell_type": "markdown",
      "source": [
        "STEP 13 - Plot image function "
      ],
      "metadata": {
        "id": "j2OkAxptPZR6"
      }
    },
    {
      "cell_type": "code",
      "source": [
        "def plot_images(rows, cols, images, title):\n",
        "    grid = np.zeros(shape=(rows*28, cols*28,3))\n",
        "    for row in range(rows):\n",
        "        for col in range(cols):\n",
        "            grid[row*28:(row+1)*28, col*28:(col+1)*28, :] = images[row*cols + col]\n",
        "       \n",
        "    plt.figure(figsize=(40,40))  \n",
        "    plt.imshow(grid,  interpolation='nearest')\n",
        "    plt.title(title)\n",
        "    plt.show()"
      ],
      "metadata": {
        "id": "IHchTbIklv8h"
      },
      "execution_count": null,
      "outputs": []
    },
    {
      "cell_type": "markdown",
      "source": [
        "STEP 14 - plot 200 original images"
      ],
      "metadata": {
        "id": "zb9p60WrPfMB"
      }
    },
    {
      "cell_type": "code",
      "source": [
        "predictions = data[:200]\n",
        "plot_images(20,8,predictions,\"ORIGINAL IMAGES\")"
      ],
      "metadata": {
        "id": "_y7sUfJWlwjr"
      },
      "execution_count": null,
      "outputs": []
    },
    {
      "cell_type": "markdown",
      "source": [
        "STEP 15 - Plot 200 reconstructed images"
      ],
      "metadata": {
        "id": "ZWSX8ikpPnqT"
      }
    },
    {
      "cell_type": "code",
      "source": [
        "predictions  = vae.predict(data[:200])\n",
        "plot_images(20,8,predictions, \"RECONSTRUCTED IMAGES\")"
      ],
      "metadata": {
        "id": "vpCOJfOkl-M_"
      },
      "execution_count": null,
      "outputs": []
    },
    {
      "cell_type": "markdown",
      "source": [
        "Step 16 - generate 200 new images"
      ],
      "metadata": {
        "id": "bYqBndwbPwom"
      }
    },
    {
      "cell_type": "code",
      "source": [
        "predictions= decoder.predict(np.random.randn(200, latent_dims))\n",
        "plot_images(20,8,predictions, \"GENERATED IMAGES (NEW IMAGES)\")"
      ],
      "metadata": {
        "id": "7lXjzO2EmDuJ"
      },
      "execution_count": null,
      "outputs": []
    },
    {
      "cell_type": "markdown",
      "source": [
        "step 17 - Interpolate from a vector"
      ],
      "metadata": {
        "id": "JbWrshPtP8-Z"
      }
    },
    {
      "cell_type": "code",
      "source": [
        "#set inerpolation step\n",
        "step = 0.5\n",
        "#generate a random vector\n",
        "vec=np.random.randn(1, latent_dims)\n",
        "\n",
        "#set number of predictions\n",
        "nPredictions= 320\n",
        "\n",
        "#counter \n",
        "c=0\n",
        "\n",
        "for i in range (nPredictions):\n",
        "  \n",
        "  ivec= vec*c #add value to a vector\n",
        "\n",
        "  prediction= decoder.predict(ivec)\n",
        "  # Reshape the array into 28 x 28 array (2-dimensional array)\n",
        "  pixels = prediction.reshape((28, 28))\n",
        "\n",
        "  # Plot\n",
        "  #plt.title('result')\n",
        "  plt.imshow(pixels, cmap='gray')\n",
        "  plt.axis('off')\n",
        "  plt.show()\n",
        "  c=c+step"
      ],
      "metadata": {
        "id": "dI34H0agxQG7"
      },
      "execution_count": null,
      "outputs": []
    }
  ]
}