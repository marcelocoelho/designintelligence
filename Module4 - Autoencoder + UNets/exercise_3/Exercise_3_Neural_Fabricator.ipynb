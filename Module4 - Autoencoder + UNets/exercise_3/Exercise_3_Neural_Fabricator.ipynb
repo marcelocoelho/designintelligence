{
  "nbformat": 4,
  "nbformat_minor": 0,
  "metadata": {
    "colab": {
      "name": "Exercise 3 - Neural Fabricator.ipynb",
      "provenance": [],
      "collapsed_sections": []
    },
    "kernelspec": {
      "name": "python3",
      "display_name": "Python 3"
    },
    "language_info": {
      "name": "python"
    }
  },
  "cells": [
    {
      "cell_type": "code",
      "execution_count": null,
      "metadata": {
        "id": "eKLLCbu1zILL"
      },
      "outputs": [],
      "source": [
        "from google.colab import drive\n",
        "drive.mount('/content/drive')"
      ]
    },
    {
      "cell_type": "code",
      "source": [
        "#get the dataset\n",
        "!wget https://www.dropbox.com/s/3zfed5lrqqqp0j1/line7.tar"
      ],
      "metadata": {
        "id": "RzPX1_z1zWFA"
      },
      "execution_count": null,
      "outputs": []
    },
    {
      "cell_type": "code",
      "source": [
        "#untar\n",
        "!mkdir imgs\n",
        "!tar -xvf  'line7.tar' -C '/content/imgs' "
      ],
      "metadata": {
        "id": "j6e1Nhr90QWB"
      },
      "execution_count": null,
      "outputs": []
    },
    {
      "cell_type": "code",
      "source": [
        "import os \n",
        "import matplotlib.pyplot as plt \n",
        "import cv2 \n",
        "import numpy as np \n",
        "from tqdm import tqdm\n",
        "img_data = []\n",
        "for img in tqdm(os.listdir('/content/imgs')):\n",
        "    path = '/content/imgs/{}'.format(img)    \n",
        "    image = plt.imread(path)\n",
        "    image = image.astype('float32')\n",
        "    image = image\n",
        "    img_data.append(image) \n",
        "img_data = np.array(img_data)"
      ],
      "metadata": {
        "id": "pz78G_0g1nPN"
      },
      "execution_count": null,
      "outputs": []
    },
    {
      "cell_type": "code",
      "source": [
        "print(img_data.shape)"
      ],
      "metadata": {
        "collapsed": true,
        "id": "zusOFS9R2Ls5"
      },
      "execution_count": null,
      "outputs": []
    },
    {
      "cell_type": "code",
      "source": [
        "# Turn image into black and white so it fits into VAE example that uses MNIST\n",
        "import numpy as np\n",
        "\n",
        "plt.imshow(img_data[0], cmap=plt.get_cmap('gray'), vmin=0, vmax=1)\n",
        "plt.show()\n",
        "\n",
        "img_grayscale = img_data.mean(axis=3).astype(np.float32) #<-- NOT THIS\n",
        "img_grayscale.shape\n",
        "\n",
        "plt.imshow(img_grayscale[0], cmap=plt.get_cmap('gray'), vmin=0, vmax=1)\n",
        "plt.show()\n",
        "\n",
        "img_data[0]\n",
        "#img_grayscale[0]\n",
        "\n",
        "# Y' = 0.2989 R + 0.5870 G + 0.1140 B \n"
      ],
      "metadata": {
        "id": "8Eg6OW2S-IHl"
      },
      "execution_count": null,
      "outputs": []
    }
  ]
}