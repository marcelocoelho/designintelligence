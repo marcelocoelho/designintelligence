{
  "metadata": {
    "kernelspec": {
      "language": "python",
      "display_name": "Python 3",
      "name": "python3"
    },
    "language_info": {
      "pygments_lexer": "ipython3",
      "nbconvert_exporter": "python",
      "version": "3.6.4",
      "file_extension": ".py",
      "codemirror_mode": {
        "name": "ipython",
        "version": 3
      },
      "name": "python",
      "mimetype": "text/x-python"
    },
    "colab": {
      "name": "crypto-punk2.ipynb",
      "provenance": [],
      "machine_shape": "hm"
    },
    "accelerator": "GPU"
  },
  "nbformat_minor": 0,
  "nbformat": 4,
  "cells": [
    {
      "cell_type": "markdown",
      "source": [
        "## GENERATIVE MODEL (VARIATIONAL AUTOENCODER)\n",
        "An autoencoder is made up of two parts,encoder and decoder. "
      ],
      "metadata": {
        "id": "kHgaBVQejhUr"
      }
    },
    {
      "cell_type": "code",
      "source": [
        "%tensorflow_version 1.x"
      ],
      "metadata": {
        "colab": {
          "base_uri": "https://localhost:8080/"
        },
        "id": "aJVnW1YKKzGi",
        "outputId": "45d9294e-4172-456f-ca81-9be949029653"
      },
      "execution_count": 1,
      "outputs": [
        {
          "output_type": "stream",
          "name": "stdout",
          "text": [
            "TensorFlow 1.x selected.\n"
          ]
        }
      ]
    },
    {
      "cell_type": "code",
      "source": [
        "from google.colab import drive\n",
        "drive.mount('/content/drive')"
      ],
      "metadata": {
        "colab": {
          "base_uri": "https://localhost:8080/"
        },
        "id": "O_BSSYZVjn4P",
        "outputId": "36bf9646-6a71-427e-cfd5-ae5b4d0a44aa"
      },
      "execution_count": 1,
      "outputs": [
        {
          "output_type": "stream",
          "name": "stdout",
          "text": [
            "Mounted at /content/drive\n"
          ]
        }
      ]
    },
    {
      "cell_type": "code",
      "source": [
        "!pip3 install keras==2.2.4"
      ],
      "metadata": {
        "colab": {
          "base_uri": "https://localhost:8080/"
        },
        "id": "YTzL8Y2SKGP3",
        "outputId": "045ddcba-0852-406e-e166-0770a9e5142e"
      },
      "execution_count": 2,
      "outputs": [
        {
          "output_type": "stream",
          "name": "stdout",
          "text": [
            "Requirement already satisfied: keras==2.2.4 in /usr/local/lib/python3.7/dist-packages (2.2.4)\n",
            "Requirement already satisfied: h5py in /usr/local/lib/python3.7/dist-packages (from keras==2.2.4) (3.1.0)\n",
            "Requirement already satisfied: pyyaml in /usr/local/lib/python3.7/dist-packages (from keras==2.2.4) (3.13)\n",
            "Requirement already satisfied: keras-preprocessing>=1.0.5 in /usr/local/lib/python3.7/dist-packages (from keras==2.2.4) (1.1.2)\n",
            "Requirement already satisfied: numpy>=1.9.1 in /usr/local/lib/python3.7/dist-packages (from keras==2.2.4) (1.21.5)\n",
            "Requirement already satisfied: keras-applications>=1.0.6 in /tensorflow-1.15.2/python3.7 (from keras==2.2.4) (1.0.8)\n",
            "Requirement already satisfied: scipy>=0.14 in /usr/local/lib/python3.7/dist-packages (from keras==2.2.4) (1.4.1)\n",
            "Requirement already satisfied: six>=1.9.0 in /usr/local/lib/python3.7/dist-packages (from keras==2.2.4) (1.15.0)\n",
            "Requirement already satisfied: cached-property in /usr/local/lib/python3.7/dist-packages (from h5py->keras==2.2.4) (1.5.2)\n"
          ]
        }
      ]
    },
    {
      "cell_type": "code",
      "source": [
        "#IMPORTING\n",
        "import numpy as np\n",
        "import os\n",
        "import matplotlib.pyplot as plt\n",
        "%matplotlib inline\n",
        "from tqdm import tqdm\n",
        "import cv2"
      ],
      "metadata": {
        "execution": {
          "iopub.status.busy": "2021-12-13T20:13:57.04293Z",
          "iopub.execute_input": "2021-12-13T20:13:57.043261Z",
          "iopub.status.idle": "2021-12-13T20:13:57.178885Z",
          "shell.execute_reply.started": "2021-12-13T20:13:57.043197Z",
          "shell.execute_reply": "2021-12-13T20:13:57.177952Z"
        },
        "trusted": true,
        "id": "uHQRtQtJjhUs"
      },
      "execution_count": 3,
      "outputs": []
    },
    {
      "cell_type": "code",
      "source": [
        "!unzip /content/drive/MyDrive/CP_GEN-AE/imgs.zip"
      ],
      "metadata": {
        "colab": {
          "base_uri": "https://localhost:8080/"
        },
        "id": "7fdZkB2KtmJ6",
        "outputId": "b257120b-830b-4594-e745-084e9590174c"
      },
      "execution_count": 13,
      "outputs": [
        {
          "output_type": "stream",
          "name": "stdout",
          "text": [
            "Archive:  /content/drive/MyDrive/CP_GEN-AE/imgs.zip\n",
            "replace __MACOSX/._imgs? [y]es, [n]o, [A]ll, [N]one, [r]ename: "
          ]
        }
      ]
    },
    {
      "cell_type": "code",
      "source": [
        "import os \n",
        "import matplotlib.pyplot as plt \n",
        "import cv2 \n",
        "import numpy as np \n",
        "from tqdm import tqdm\n",
        "punk_data = []\n",
        "for img in tqdm(os.listdir('/content/imgs')):\n",
        "    path = '/content/imgs/{}'.format(img)    \n",
        "    image = plt.imread(path)\n",
        "    image = image.astype('float32')\n",
        "    image = image\n",
        "    punk_data.append(image) \n",
        "punk_data = np.array(punk_data)"
      ],
      "metadata": {
        "execution": {
          "iopub.status.busy": "2021-12-13T20:14:18.946971Z",
          "iopub.execute_input": "2021-12-13T20:14:18.947358Z",
          "iopub.status.idle": "2021-12-13T20:15:02.298948Z",
          "shell.execute_reply.started": "2021-12-13T20:14:18.947297Z",
          "shell.execute_reply": "2021-12-13T20:15:02.297864Z"
        },
        "trusted": true,
        "colab": {
          "base_uri": "https://localhost:8080/"
        },
        "id": "qxNhliunjhUs",
        "outputId": "1de5b307-0ed9-46f1-dc9b-b689b6186108"
      },
      "execution_count": 4,
      "outputs": [
        {
          "output_type": "stream",
          "name": "stderr",
          "text": [
            "100%|██████████| 10000/10000 [00:00<00:00, 10727.15it/s]\n"
          ]
        }
      ]
    },
    {
      "cell_type": "code",
      "source": [
        "print(punk_data.shape)"
      ],
      "metadata": {
        "colab": {
          "base_uri": "https://localhost:8080/"
        },
        "id": "ufJQRDbnDOVL",
        "outputId": "04bd372e-1b00-44f2-c43b-d8868adb65de"
      },
      "execution_count": 5,
      "outputs": [
        {
          "output_type": "stream",
          "name": "stdout",
          "text": [
            "(10000, 24, 24, 4)\n"
          ]
        }
      ]
    },
    {
      "cell_type": "code",
      "source": [
        "import keras\n",
        "\n",
        "from keras.models import Sequential, Model, Input\n",
        "from keras.layers.advanced_activations import LeakyReLU\n",
        "from keras.layers import Dense\n",
        "from keras.layers import Conv2D\n",
        "from keras.layers import Conv2DTranspose\n",
        "from keras.layers import MaxPool2D, AvgPool2D\n",
        "from keras.layers import UpSampling2D\n",
        "from keras.layers import Lambda\n",
        "from keras.layers import Activation\n",
        "from keras.layers import BatchNormalization\n",
        "from keras.layers import Flatten\n",
        "from keras.layers import Reshape\n",
        "from keras.layers import Add, Multiply\n",
        "from keras.losses import mse, binary_crossentropy\n",
        "import keras.backend as K"
      ],
      "metadata": {
        "execution": {
          "iopub.status.busy": "2021-12-13T20:15:21.43958Z",
          "iopub.execute_input": "2021-12-13T20:15:21.439926Z",
          "iopub.status.idle": "2021-12-13T20:15:23.560758Z",
          "shell.execute_reply.started": "2021-12-13T20:15:21.439864Z",
          "shell.execute_reply": "2021-12-13T20:15:23.559879Z"
        },
        "trusted": true,
        "colab": {
          "base_uri": "https://localhost:8080/"
        },
        "id": "PdCnuCHCjhUs",
        "outputId": "10992140-d015-4eb1-84c8-e379043543d9"
      },
      "execution_count": 6,
      "outputs": [
        {
          "output_type": "stream",
          "name": "stderr",
          "text": [
            "Using TensorFlow backend.\n"
          ]
        }
      ]
    },
    {
      "cell_type": "code",
      "source": [
        "np.random.seed(20)\n",
        "#NUMBER OF DIMENSIONS IN THE LATENT SPACE\n",
        "latent_dims = 576"
      ],
      "metadata": {
        "execution": {
          "iopub.status.busy": "2021-12-13T20:15:23.565474Z",
          "iopub.execute_input": "2021-12-13T20:15:23.565762Z",
          "iopub.status.idle": "2021-12-13T20:15:23.572029Z",
          "shell.execute_reply.started": "2021-12-13T20:15:23.5657Z",
          "shell.execute_reply": "2021-12-13T20:15:23.570955Z"
        },
        "trusted": true,
        "id": "nILuL2q7jhUt"
      },
      "execution_count": 7,
      "outputs": []
    },
    {
      "cell_type": "markdown",
      "source": [
        "## Building the encoder\n",
        "\n",
        "The encoder compresses the image via a series of convolutions into a smaller dimensional space (z).\n",
        "\n",
        "The output is split into 2 blocks, the mean (mu) and log_variance (log_var), which are then recombined to predict a distribution rather than a value."
      ],
      "metadata": {
        "id": "1wdelXb5jhUt"
      }
    },
    {
      "cell_type": "code",
      "source": [
        "encoder_in = Input(shape=(24,24,4))  \n",
        "\n",
        "encoder_l1 = Conv2D(filters=32, kernel_size=5, strides=1, padding='same',name = 'c11', input_shape=(24,24,4))(encoder_in)\n",
        "encoder_l1 = BatchNormalization(name = '1b1')(encoder_l1)\n",
        "encoder_l1 = LeakyReLU(0.2,name = '1r1')(encoder_l1)\n",
        "\n",
        "encoder_l1 = Conv2D(filters=64, kernel_size=5, strides=2, padding='same',name = 'c12')(encoder_l1)\n",
        "encoder_l1 = BatchNormalization(name = 'b12')(encoder_l1)\n",
        "encoder_l1 = LeakyReLU(0.2,name = 'r12')(encoder_l1)\n",
        "\n",
        "\n",
        "encoder_l2 = Conv2D(filters=128, kernel_size=5, strides=2, padding='same',name = 'c13')(encoder_l1)\n",
        "encoder_l2 = BatchNormalization(name = 'b13')(encoder_l2)\n",
        "encoder_l2 = LeakyReLU(0.2,name = 'r13')(encoder_l2)\n",
        "\n",
        "encoder_l3 = Conv2D(filters=256, kernel_size=5, strides=2, padding='same',name = 'c14')(encoder_l2)\n",
        "encoder_l3 = BatchNormalization(name = 'b14')(encoder_l3)\n",
        "encoder_l3 = LeakyReLU(0.2,name = 'r14')(encoder_l3)\n",
        "\n",
        "\n",
        "encoder_l4 = Conv2D(filters=512, kernel_size=5, strides=2, padding='same',name = 'c15')(encoder_l3)\n",
        "encoder_l4 = BatchNormalization(name = 'b15')(encoder_l4)\n",
        "encoder_l4 = LeakyReLU(0.2,name = 'r15')(encoder_l4)\n",
        "\n",
        "flatten = Flatten(name = 'r125')(encoder_l4)\n",
        "\n",
        "encoder_dense = Dense(1024)(flatten)\n",
        "encoder_dense = BatchNormalization(name = 'br15')(encoder_dense)\n",
        "encoder_out = LeakyReLU(0.2,name = 'r1115')(encoder_dense)\n",
        "\n",
        "\n",
        "mu = Dense(latent_dims)(encoder_out)\n",
        "log_var = Dense(latent_dims)(encoder_out)\n",
        "\n",
        "\n",
        "epsilon = Input(tensor=K.random_normal(shape=(K.shape(mu)[0], latent_dims)))  ##INPUT EPSILON FOR RANDOM SAMPLING\n",
        "\n",
        "sigma = Lambda(lambda x: K.exp(0.5 * x))(log_var) # CHANGE log_var INTO STANDARD DEVIATION(sigma)\n",
        "z_eps = Multiply()([sigma, epsilon])\n",
        "\n",
        "z = Add()([mu, z_eps])\n",
        "\n",
        "encoder=Model([encoder_in,epsilon], z)\n",
        "encoder.summary()"
      ],
      "metadata": {
        "execution": {
          "iopub.status.busy": "2021-12-13T20:15:52.21054Z",
          "iopub.execute_input": "2021-12-13T20:15:52.210895Z",
          "iopub.status.idle": "2021-12-13T20:15:53.035897Z",
          "shell.execute_reply.started": "2021-12-13T20:15:52.210825Z",
          "shell.execute_reply": "2021-12-13T20:15:53.035044Z"
        },
        "trusted": true,
        "colab": {
          "base_uri": "https://localhost:8080/"
        },
        "id": "AqTkp_F7jhUt",
        "outputId": "fd121f85-744e-499c-c98c-5fcc03beac07"
      },
      "execution_count": 8,
      "outputs": [
        {
          "output_type": "stream",
          "name": "stdout",
          "text": [
            "WARNING:tensorflow:From /usr/local/lib/python3.7/dist-packages/keras/backend/tensorflow_backend.py:74: The name tf.get_default_graph is deprecated. Please use tf.compat.v1.get_default_graph instead.\n",
            "\n",
            "WARNING:tensorflow:From /usr/local/lib/python3.7/dist-packages/keras/backend/tensorflow_backend.py:517: The name tf.placeholder is deprecated. Please use tf.compat.v1.placeholder instead.\n",
            "\n",
            "WARNING:tensorflow:From /usr/local/lib/python3.7/dist-packages/keras/backend/tensorflow_backend.py:4138: The name tf.random_uniform is deprecated. Please use tf.random.uniform instead.\n",
            "\n",
            "WARNING:tensorflow:From /usr/local/lib/python3.7/dist-packages/keras/backend/tensorflow_backend.py:174: The name tf.get_default_session is deprecated. Please use tf.compat.v1.get_default_session instead.\n",
            "\n",
            "WARNING:tensorflow:From /usr/local/lib/python3.7/dist-packages/keras/backend/tensorflow_backend.py:181: The name tf.ConfigProto is deprecated. Please use tf.compat.v1.ConfigProto instead.\n",
            "\n",
            "WARNING:tensorflow:From /usr/local/lib/python3.7/dist-packages/keras/backend/tensorflow_backend.py:186: The name tf.Session is deprecated. Please use tf.compat.v1.Session instead.\n",
            "\n",
            "WARNING:tensorflow:From /usr/local/lib/python3.7/dist-packages/keras/backend/tensorflow_backend.py:190: The name tf.global_variables is deprecated. Please use tf.compat.v1.global_variables instead.\n",
            "\n",
            "WARNING:tensorflow:From /usr/local/lib/python3.7/dist-packages/keras/backend/tensorflow_backend.py:199: The name tf.is_variable_initialized is deprecated. Please use tf.compat.v1.is_variable_initialized instead.\n",
            "\n",
            "WARNING:tensorflow:From /usr/local/lib/python3.7/dist-packages/keras/backend/tensorflow_backend.py:206: The name tf.variables_initializer is deprecated. Please use tf.compat.v1.variables_initializer instead.\n",
            "\n",
            "WARNING:tensorflow:From /usr/local/lib/python3.7/dist-packages/keras/backend/tensorflow_backend.py:1834: The name tf.nn.fused_batch_norm is deprecated. Please use tf.compat.v1.nn.fused_batch_norm instead.\n",
            "\n",
            "WARNING:tensorflow:From /usr/local/lib/python3.7/dist-packages/keras/backend/tensorflow_backend.py:133: The name tf.placeholder_with_default is deprecated. Please use tf.compat.v1.placeholder_with_default instead.\n",
            "\n",
            "WARNING:tensorflow:From /usr/local/lib/python3.7/dist-packages/keras/backend/tensorflow_backend.py:4115: The name tf.random_normal is deprecated. Please use tf.random.normal instead.\n",
            "\n",
            "__________________________________________________________________________________________________\n",
            "Layer (type)                    Output Shape         Param #     Connected to                     \n",
            "==================================================================================================\n",
            "input_1 (InputLayer)            (None, 24, 24, 4)    0                                            \n",
            "__________________________________________________________________________________________________\n",
            "c11 (Conv2D)                    (None, 24, 24, 32)   3232        input_1[0][0]                    \n",
            "__________________________________________________________________________________________________\n",
            "1b1 (BatchNormalization)        (None, 24, 24, 32)   128         c11[0][0]                        \n",
            "__________________________________________________________________________________________________\n",
            "1r1 (LeakyReLU)                 (None, 24, 24, 32)   0           1b1[0][0]                        \n",
            "__________________________________________________________________________________________________\n",
            "c12 (Conv2D)                    (None, 12, 12, 64)   51264       1r1[0][0]                        \n",
            "__________________________________________________________________________________________________\n",
            "b12 (BatchNormalization)        (None, 12, 12, 64)   256         c12[0][0]                        \n",
            "__________________________________________________________________________________________________\n",
            "r12 (LeakyReLU)                 (None, 12, 12, 64)   0           b12[0][0]                        \n",
            "__________________________________________________________________________________________________\n",
            "c13 (Conv2D)                    (None, 6, 6, 128)    204928      r12[0][0]                        \n",
            "__________________________________________________________________________________________________\n",
            "b13 (BatchNormalization)        (None, 6, 6, 128)    512         c13[0][0]                        \n",
            "__________________________________________________________________________________________________\n",
            "r13 (LeakyReLU)                 (None, 6, 6, 128)    0           b13[0][0]                        \n",
            "__________________________________________________________________________________________________\n",
            "c14 (Conv2D)                    (None, 3, 3, 256)    819456      r13[0][0]                        \n",
            "__________________________________________________________________________________________________\n",
            "b14 (BatchNormalization)        (None, 3, 3, 256)    1024        c14[0][0]                        \n",
            "__________________________________________________________________________________________________\n",
            "r14 (LeakyReLU)                 (None, 3, 3, 256)    0           b14[0][0]                        \n",
            "__________________________________________________________________________________________________\n",
            "c15 (Conv2D)                    (None, 2, 2, 512)    3277312     r14[0][0]                        \n",
            "__________________________________________________________________________________________________\n",
            "b15 (BatchNormalization)        (None, 2, 2, 512)    2048        c15[0][0]                        \n",
            "__________________________________________________________________________________________________\n",
            "r15 (LeakyReLU)                 (None, 2, 2, 512)    0           b15[0][0]                        \n",
            "__________________________________________________________________________________________________\n",
            "r125 (Flatten)                  (None, 2048)         0           r15[0][0]                        \n",
            "__________________________________________________________________________________________________\n",
            "dense_1 (Dense)                 (None, 1024)         2098176     r125[0][0]                       \n",
            "__________________________________________________________________________________________________\n",
            "br15 (BatchNormalization)       (None, 1024)         4096        dense_1[0][0]                    \n",
            "__________________________________________________________________________________________________\n",
            "r1115 (LeakyReLU)               (None, 1024)         0           br15[0][0]                       \n",
            "__________________________________________________________________________________________________\n",
            "dense_3 (Dense)                 (None, 576)          590400      r1115[0][0]                      \n",
            "__________________________________________________________________________________________________\n",
            "lambda_1 (Lambda)               (None, 576)          0           dense_3[0][0]                    \n",
            "__________________________________________________________________________________________________\n",
            "input_2 (InputLayer)            (None, 576)          0                                            \n",
            "__________________________________________________________________________________________________\n",
            "dense_2 (Dense)                 (None, 576)          590400      r1115[0][0]                      \n",
            "__________________________________________________________________________________________________\n",
            "multiply_1 (Multiply)           (None, 576)          0           lambda_1[0][0]                   \n",
            "                                                                 input_2[0][0]                    \n",
            "__________________________________________________________________________________________________\n",
            "add_1 (Add)                     (None, 576)          0           dense_2[0][0]                    \n",
            "                                                                 multiply_1[0][0]                 \n",
            "==================================================================================================\n",
            "Total params: 7,643,232\n",
            "Trainable params: 7,639,200\n",
            "Non-trainable params: 4,032\n",
            "__________________________________________________________________________________________________\n"
          ]
        }
      ]
    },
    {
      "cell_type": "markdown",
      "source": [
        "## Building a Decoder"
      ],
      "metadata": {
        "id": "XCkrwbH4jhUt"
      }
    },
    {
      "cell_type": "code",
      "source": [
        "decoder = Sequential()\n",
        "decoder.add(Dense(1024, input_shape=(latent_dims,)))\n",
        "decoder.add(BatchNormalization(name = 'b1'))\n",
        "decoder.add(LeakyReLU(0.2,name = 'r1'))\n",
        "\n",
        "decoder.add(Dense(2048))\n",
        "decoder.add(BatchNormalization(name = 'b2'))\n",
        "decoder.add(LeakyReLU(0.2,name = 'r2'))\n",
        "\n",
        "decoder.add(Reshape(target_shape=(2,2,512)))\n",
        "\n",
        "decoder.add(Conv2DTranspose(filters=256, kernel_size=5, strides=2, padding='same',name = 'c1'))\n",
        "decoder.add(BatchNormalization(name = 'b3'))\n",
        "decoder.add(LeakyReLU(0.2,name = 'r3'))\n",
        "\n",
        "decoder.add(Conv2DTranspose(filters=128, kernel_size=5, strides=3, padding='same',name = 'c2'))\n",
        "decoder.add(BatchNormalization(name = 'b4'))\n",
        "decoder.add(LeakyReLU(0.2,name = 'r4'))\n",
        "\n",
        "decoder.add(Conv2DTranspose(filters=64, kernel_size=5, strides=2, padding='same',name = 'c3'))\n",
        "decoder.add(BatchNormalization(name = 'b5'))\n",
        "decoder.add(LeakyReLU(0.2,name = 'r5'))\n",
        "\n",
        "decoder.add(Conv2DTranspose(filters=32, kernel_size=5, strides=1, padding='same',name = 'c33'))\n",
        "decoder.add(BatchNormalization(name = 'b35'))\n",
        "decoder.add(LeakyReLU(0.2,name = 'r35'))\n",
        "\n",
        "decoder.add(Conv2DTranspose(filters=4, kernel_size=5,activation = 'sigmoid',strides=1, padding='same',name = 'c5'))\n",
        "decoder.add(BatchNormalization(name = 'b7'))\n",
        "decoder.add(Activation('sigmoid'))\n",
        "\n",
        "decoder.summary()\n"
      ],
      "metadata": {
        "execution": {
          "iopub.status.busy": "2021-12-13T20:15:57.350088Z",
          "iopub.execute_input": "2021-12-13T20:15:57.350499Z",
          "iopub.status.idle": "2021-12-13T20:15:58.429156Z",
          "shell.execute_reply.started": "2021-12-13T20:15:57.350438Z",
          "shell.execute_reply": "2021-12-13T20:15:58.42823Z"
        },
        "trusted": true,
        "colab": {
          "base_uri": "https://localhost:8080/"
        },
        "id": "0EZ80YEkjhUt",
        "outputId": "ffa1fce8-e01e-4bc9-f5f7-709c095dfa1b"
      },
      "execution_count": 9,
      "outputs": [
        {
          "output_type": "stream",
          "name": "stdout",
          "text": [
            "_________________________________________________________________\n",
            "Layer (type)                 Output Shape              Param #   \n",
            "=================================================================\n",
            "dense_4 (Dense)              (None, 1024)              590848    \n",
            "_________________________________________________________________\n",
            "b1 (BatchNormalization)      (None, 1024)              4096      \n",
            "_________________________________________________________________\n",
            "r1 (LeakyReLU)               (None, 1024)              0         \n",
            "_________________________________________________________________\n",
            "dense_5 (Dense)              (None, 2048)              2099200   \n",
            "_________________________________________________________________\n",
            "b2 (BatchNormalization)      (None, 2048)              8192      \n",
            "_________________________________________________________________\n",
            "r2 (LeakyReLU)               (None, 2048)              0         \n",
            "_________________________________________________________________\n",
            "reshape_1 (Reshape)          (None, 2, 2, 512)         0         \n",
            "_________________________________________________________________\n",
            "c1 (Conv2DTranspose)         (None, 4, 4, 256)         3277056   \n",
            "_________________________________________________________________\n",
            "b3 (BatchNormalization)      (None, 4, 4, 256)         1024      \n",
            "_________________________________________________________________\n",
            "r3 (LeakyReLU)               (None, 4, 4, 256)         0         \n",
            "_________________________________________________________________\n",
            "c2 (Conv2DTranspose)         (None, 12, 12, 128)       819328    \n",
            "_________________________________________________________________\n",
            "b4 (BatchNormalization)      (None, 12, 12, 128)       512       \n",
            "_________________________________________________________________\n",
            "r4 (LeakyReLU)               (None, 12, 12, 128)       0         \n",
            "_________________________________________________________________\n",
            "c3 (Conv2DTranspose)         (None, 24, 24, 64)        204864    \n",
            "_________________________________________________________________\n",
            "b5 (BatchNormalization)      (None, 24, 24, 64)        256       \n",
            "_________________________________________________________________\n",
            "r5 (LeakyReLU)               (None, 24, 24, 64)        0         \n",
            "_________________________________________________________________\n",
            "c33 (Conv2DTranspose)        (None, 24, 24, 32)        51232     \n",
            "_________________________________________________________________\n",
            "b35 (BatchNormalization)     (None, 24, 24, 32)        128       \n",
            "_________________________________________________________________\n",
            "r35 (LeakyReLU)              (None, 24, 24, 32)        0         \n",
            "_________________________________________________________________\n",
            "c5 (Conv2DTranspose)         (None, 24, 24, 4)         3204      \n",
            "_________________________________________________________________\n",
            "b7 (BatchNormalization)      (None, 24, 24, 4)         16        \n",
            "_________________________________________________________________\n",
            "activation_1 (Activation)    (None, 24, 24, 4)         0         \n",
            "=================================================================\n",
            "Total params: 7,059,956\n",
            "Trainable params: 7,052,844\n",
            "Non-trainable params: 7,112\n",
            "_________________________________________________________________\n"
          ]
        }
      ]
    },
    {
      "cell_type": "markdown",
      "source": [
        "## Full Variational Autoencoder"
      ],
      "metadata": {
        "id": "U_rIXADxjhUu"
      }
    },
    {
      "cell_type": "code",
      "source": [
        "# COMBINING ENCODER AND DECODER TO COMPLETE THE VARIATIONAL AUTO ENCODER\n",
        "\n",
        "vae_preds = decoder(z)\n",
        "vae = Model([encoder_in, epsilon], vae_preds)\n",
        "vae.summary()"
      ],
      "metadata": {
        "execution": {
          "iopub.status.busy": "2021-12-13T20:15:58.434766Z",
          "iopub.execute_input": "2021-12-13T20:15:58.435104Z",
          "iopub.status.idle": "2021-12-13T20:15:59.176639Z",
          "shell.execute_reply.started": "2021-12-13T20:15:58.435044Z",
          "shell.execute_reply": "2021-12-13T20:15:59.175736Z"
        },
        "trusted": true,
        "colab": {
          "base_uri": "https://localhost:8080/"
        },
        "id": "lSUAO2T5jhUu",
        "outputId": "d30398ce-cc3f-4148-b76d-7c1edea607ac"
      },
      "execution_count": 10,
      "outputs": [
        {
          "output_type": "stream",
          "name": "stdout",
          "text": [
            "__________________________________________________________________________________________________\n",
            "Layer (type)                    Output Shape         Param #     Connected to                     \n",
            "==================================================================================================\n",
            "input_1 (InputLayer)            (None, 24, 24, 4)    0                                            \n",
            "__________________________________________________________________________________________________\n",
            "c11 (Conv2D)                    (None, 24, 24, 32)   3232        input_1[0][0]                    \n",
            "__________________________________________________________________________________________________\n",
            "1b1 (BatchNormalization)        (None, 24, 24, 32)   128         c11[0][0]                        \n",
            "__________________________________________________________________________________________________\n",
            "1r1 (LeakyReLU)                 (None, 24, 24, 32)   0           1b1[0][0]                        \n",
            "__________________________________________________________________________________________________\n",
            "c12 (Conv2D)                    (None, 12, 12, 64)   51264       1r1[0][0]                        \n",
            "__________________________________________________________________________________________________\n",
            "b12 (BatchNormalization)        (None, 12, 12, 64)   256         c12[0][0]                        \n",
            "__________________________________________________________________________________________________\n",
            "r12 (LeakyReLU)                 (None, 12, 12, 64)   0           b12[0][0]                        \n",
            "__________________________________________________________________________________________________\n",
            "c13 (Conv2D)                    (None, 6, 6, 128)    204928      r12[0][0]                        \n",
            "__________________________________________________________________________________________________\n",
            "b13 (BatchNormalization)        (None, 6, 6, 128)    512         c13[0][0]                        \n",
            "__________________________________________________________________________________________________\n",
            "r13 (LeakyReLU)                 (None, 6, 6, 128)    0           b13[0][0]                        \n",
            "__________________________________________________________________________________________________\n",
            "c14 (Conv2D)                    (None, 3, 3, 256)    819456      r13[0][0]                        \n",
            "__________________________________________________________________________________________________\n",
            "b14 (BatchNormalization)        (None, 3, 3, 256)    1024        c14[0][0]                        \n",
            "__________________________________________________________________________________________________\n",
            "r14 (LeakyReLU)                 (None, 3, 3, 256)    0           b14[0][0]                        \n",
            "__________________________________________________________________________________________________\n",
            "c15 (Conv2D)                    (None, 2, 2, 512)    3277312     r14[0][0]                        \n",
            "__________________________________________________________________________________________________\n",
            "b15 (BatchNormalization)        (None, 2, 2, 512)    2048        c15[0][0]                        \n",
            "__________________________________________________________________________________________________\n",
            "r15 (LeakyReLU)                 (None, 2, 2, 512)    0           b15[0][0]                        \n",
            "__________________________________________________________________________________________________\n",
            "r125 (Flatten)                  (None, 2048)         0           r15[0][0]                        \n",
            "__________________________________________________________________________________________________\n",
            "dense_1 (Dense)                 (None, 1024)         2098176     r125[0][0]                       \n",
            "__________________________________________________________________________________________________\n",
            "br15 (BatchNormalization)       (None, 1024)         4096        dense_1[0][0]                    \n",
            "__________________________________________________________________________________________________\n",
            "r1115 (LeakyReLU)               (None, 1024)         0           br15[0][0]                       \n",
            "__________________________________________________________________________________________________\n",
            "dense_3 (Dense)                 (None, 576)          590400      r1115[0][0]                      \n",
            "__________________________________________________________________________________________________\n",
            "lambda_1 (Lambda)               (None, 576)          0           dense_3[0][0]                    \n",
            "__________________________________________________________________________________________________\n",
            "input_2 (InputLayer)            (None, 576)          0                                            \n",
            "__________________________________________________________________________________________________\n",
            "dense_2 (Dense)                 (None, 576)          590400      r1115[0][0]                      \n",
            "__________________________________________________________________________________________________\n",
            "multiply_1 (Multiply)           (None, 576)          0           lambda_1[0][0]                   \n",
            "                                                                 input_2[0][0]                    \n",
            "__________________________________________________________________________________________________\n",
            "add_1 (Add)                     (None, 576)          0           dense_2[0][0]                    \n",
            "                                                                 multiply_1[0][0]                 \n",
            "__________________________________________________________________________________________________\n",
            "sequential_1 (Sequential)       (None, 24, 24, 4)    7059956     add_1[0][0]                      \n",
            "==================================================================================================\n",
            "Total params: 14,703,188\n",
            "Trainable params: 14,692,044\n",
            "Non-trainable params: 11,144\n",
            "__________________________________________________________________________________________________\n"
          ]
        }
      ]
    },
    {
      "cell_type": "markdown",
      "source": [
        "## Loss Functions\n",
        "\n",
        "Reconstruction loss \n",
        "* Mean Squared Loss"
      ],
      "metadata": {
        "id": "n0Lzjm3MjhUu"
      }
    },
    {
      "cell_type": "markdown",
      "source": [
        "![image.png](data:image/png;base64,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)"
      ],
      "metadata": {
        "id": "dnzp-HKwurHe"
      }
    },
    {
      "cell_type": "markdown",
      "source": [
        "kl_loss\n",
        "* kullback leibler loss"
      ],
      "metadata": {
        "id": "pXbIQzmfuudK"
      }
    },
    {
      "cell_type": "markdown",
      "source": [
        "![image.png](data:image/png;base64,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)"
      ],
      "metadata": {
        "id": "dt4c0ahHuZ_o"
      }
    },
    {
      "cell_type": "markdown",
      "source": [
        "![image.png](data:image/png;base64,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)"
      ],
      "metadata": {
        "id": "2_vuW1XJuk9_"
      }
    },
    {
      "cell_type": "code",
      "source": [
        "def reconstruction_loss(y_true, y_pred):\n",
        "    return K.mean(K.square(y_true - y_pred))\n",
        "\n",
        "def kl_loss(y_true, y_pred):\n",
        "    kl_loss = - 0.5 * K.mean(1 + log_var - K.square(mu) - K.exp(log_var), axis=-1)\n",
        "    return kl_loss\n",
        "\n",
        "def vae_loss(y_true, y_pred):\n",
        "    return reconstruction_loss(y_true, y_pred) + 0.03 * kl_loss(y_true, y_pred)   #scaling kl_loss by 0.03 seem to help\n"
      ],
      "metadata": {
        "execution": {
          "iopub.status.busy": "2021-12-13T20:15:59.509163Z",
          "iopub.execute_input": "2021-12-13T20:15:59.509509Z",
          "iopub.status.idle": "2021-12-13T20:15:59.517623Z",
          "shell.execute_reply.started": "2021-12-13T20:15:59.509444Z",
          "shell.execute_reply": "2021-12-13T20:15:59.516326Z"
        },
        "trusted": true,
        "id": "dEuZPB8BjhUu"
      },
      "execution_count": 11,
      "outputs": []
    },
    {
      "cell_type": "code",
      "source": [
        "c = keras.callbacks.EarlyStopping(\n",
        "    monitor=\"val_loss\",\n",
        "    min_delta=0,\n",
        "    patience=0,\n",
        "    verbose=0,\n",
        "    mode=\"auto\",\n",
        "    baseline=None,\n",
        "    restore_best_weights=False,\n",
        ")\n",
        "vae.compile(optimizer='adam', loss=vae_loss , metrics=[reconstruction_loss, kl_loss])"
      ],
      "metadata": {
        "execution": {
          "iopub.status.busy": "2021-12-13T20:16:00.219092Z",
          "iopub.execute_input": "2021-12-13T20:16:00.219485Z",
          "iopub.status.idle": "2021-12-13T20:16:00.286002Z",
          "shell.execute_reply.started": "2021-12-13T20:16:00.219407Z",
          "shell.execute_reply": "2021-12-13T20:16:00.284932Z"
        },
        "trusted": true,
        "colab": {
          "base_uri": "https://localhost:8080/"
        },
        "id": "XKoHd0nRjhUu",
        "outputId": "2d505da5-7651-406d-a190-b253c0b2569f"
      },
      "execution_count": 12,
      "outputs": [
        {
          "output_type": "stream",
          "name": "stdout",
          "text": [
            "WARNING:tensorflow:From /usr/local/lib/python3.7/dist-packages/keras/optimizers.py:790: The name tf.train.Optimizer is deprecated. Please use tf.compat.v1.train.Optimizer instead.\n",
            "\n"
          ]
        }
      ]
    },
    {
      "cell_type": "code",
      "source": [
        "vae.fit(punk_data,punk_data,epochs=100, batch_size=64)"
      ],
      "metadata": {
        "execution": {
          "iopub.status.busy": "2021-12-13T20:16:02.188495Z",
          "iopub.execute_input": "2021-12-13T20:16:02.189032Z"
        },
        "trusted": true,
        "colab": {
          "base_uri": "https://localhost:8080/"
        },
        "id": "UzcbA7SKjhUv",
        "outputId": "cbbe86c0-2e3b-4546-d521-ec82bacc7a88"
      },
      "execution_count": null,
      "outputs": [
        {
          "output_type": "stream",
          "name": "stdout",
          "text": [
            "WARNING:tensorflow:From /usr/local/lib/python3.7/dist-packages/keras/backend/tensorflow_backend.py:986: The name tf.assign_add is deprecated. Please use tf.compat.v1.assign_add instead.\n",
            "\n",
            "WARNING:tensorflow:From /usr/local/lib/python3.7/dist-packages/keras/backend/tensorflow_backend.py:973: The name tf.assign is deprecated. Please use tf.compat.v1.assign instead.\n",
            "\n",
            "Epoch 1/100\n",
            "10000/10000 [==============================] - 11s 1ms/step - loss: 0.1328 - reconstruction_loss: 0.1309 - kl_loss: 0.0645\n",
            "Epoch 2/100\n",
            "10000/10000 [==============================] - 5s 550us/step - loss: 0.1013 - reconstruction_loss: 0.0991 - kl_loss: 0.0716\n",
            "Epoch 3/100\n",
            "10000/10000 [==============================] - 6s 580us/step - loss: 0.0811 - reconstruction_loss: 0.0787 - kl_loss: 0.0806\n",
            "Epoch 4/100\n",
            "10000/10000 [==============================] - 5s 538us/step - loss: 0.0659 - reconstruction_loss: 0.0634 - kl_loss: 0.0843\n",
            "Epoch 5/100\n",
            "10000/10000 [==============================] - 6s 585us/step - loss: 0.0549 - reconstruction_loss: 0.0522 - kl_loss: 0.0918\n",
            "Epoch 6/100\n",
            "10000/10000 [==============================] - 6s 586us/step - loss: 0.0455 - reconstruction_loss: 0.0430 - kl_loss: 0.0828\n",
            "Epoch 7/100\n",
            "10000/10000 [==============================] - 5s 539us/step - loss: 0.0388 - reconstruction_loss: 0.0363 - kl_loss: 0.0819\n",
            "Epoch 8/100\n",
            " 9024/10000 [==========================>...] - ETA: 0s - loss: 0.0335 - reconstruction_loss: 0.0312 - kl_loss: 0.0755"
          ]
        }
      ]
    },
    {
      "cell_type": "markdown",
      "source": [
        "## PREDICTIONS"
      ],
      "metadata": {
        "id": "Q3uUIOzDjhUv"
      }
    },
    {
      "cell_type": "code",
      "source": [
        "def plot_images(rows, cols, images, title):\n",
        "    grid = np.zeros(shape=(rows*24, cols*24,4))\n",
        "    for row in range(rows):\n",
        "        for col in range(cols):\n",
        "            grid[row*24:(row+1)*24, col*24:(col+1)*24, :] = images[row*cols + col]\n",
        "\n",
        "    plt.figure(figsize=(40,40))       \n",
        "    plt.imshow(grid)\n",
        "    plt.title(title)\n",
        "    plt.show()"
      ],
      "metadata": {
        "execution": {
          "iopub.status.busy": "2021-12-13T20:14:17.098716Z",
          "iopub.status.idle": "2021-12-13T20:14:17.099995Z"
        },
        "trusted": true,
        "id": "QTY78pOkjhUv"
      },
      "execution_count": null,
      "outputs": []
    },
    {
      "cell_type": "markdown",
      "source": [
        "## ORIGINAL FACES"
      ],
      "metadata": {
        "id": "Cw57grVzjhUv"
      }
    },
    {
      "cell_type": "code",
      "source": [
        "predictions = punk_data[:200]\n",
        "plot_images(20,8,predictions,\"ORIGINAL FACES\")"
      ],
      "metadata": {
        "execution": {
          "iopub.status.busy": "2021-12-13T20:14:17.10209Z",
          "iopub.status.idle": "2021-12-13T20:14:17.103152Z"
        },
        "trusted": true,
        "id": "9GAYX2EljhUv"
      },
      "execution_count": null,
      "outputs": []
    },
    {
      "cell_type": "markdown",
      "source": [
        "## RECONSTRUCTED FACES or COMPRESSED (*which tries to replicate the original images*)"
      ],
      "metadata": {
        "id": "c_ulAV6SjhUv"
      }
    },
    {
      "cell_type": "code",
      "source": [
        "predictions  = vae.predict(punk_data[:200])\n",
        "plot_images(20,8,predictions, \"RECONSTRUCTED FACES\")"
      ],
      "metadata": {
        "execution": {
          "iopub.status.busy": "2021-12-13T18:18:24.747896Z",
          "iopub.execute_input": "2021-12-13T18:18:24.748429Z",
          "iopub.status.idle": "2021-12-13T18:18:26.564153Z",
          "shell.execute_reply.started": "2021-12-13T18:18:24.748376Z",
          "shell.execute_reply": "2021-12-13T18:18:26.56338Z"
        },
        "trusted": true,
        "id": "7oJRjbwDjhUv"
      },
      "execution_count": null,
      "outputs": []
    },
    {
      "cell_type": "markdown",
      "source": [
        "## NEWLY GENERATED FACES"
      ],
      "metadata": {
        "id": "jan3TCgMjhUv"
      }
    },
    {
      "cell_type": "code",
      "source": [
        "predictions= decoder.predict(np.random.randn(200, latent_dims))\n",
        "plot_images(20,8,predictions, \"GENERATED FACES (NEW FACES)\")"
      ],
      "metadata": {
        "execution": {
          "iopub.status.busy": "2021-12-13T18:19:57.212774Z",
          "iopub.execute_input": "2021-12-13T18:19:57.213097Z",
          "iopub.status.idle": "2021-12-13T18:19:58.473814Z",
          "shell.execute_reply.started": "2021-12-13T18:19:57.213037Z",
          "shell.execute_reply": "2021-12-13T18:19:58.472681Z"
        },
        "trusted": true,
        "id": "Ljx-7rIdjhUv"
      },
      "execution_count": null,
      "outputs": []
    },
    {
      "cell_type": "code",
      "source": [
        "decoder.save('decoder576final_punk.h5')"
      ],
      "metadata": {
        "execution": {
          "iopub.status.busy": "2021-12-13T18:21:26.416607Z",
          "iopub.execute_input": "2021-12-13T18:21:26.417171Z",
          "iopub.status.idle": "2021-12-13T18:21:28.333682Z",
          "shell.execute_reply.started": "2021-12-13T18:21:26.416925Z",
          "shell.execute_reply": "2021-12-13T18:21:28.332864Z"
        },
        "trusted": true,
        "id": "hsO8CffJjhUw"
      },
      "execution_count": null,
      "outputs": []
    },
    {
      "cell_type": "code",
      "source": [
        "vae.save('encoder5_punk.h5')"
      ],
      "metadata": {
        "execution": {
          "iopub.status.busy": "2021-12-13T17:55:24.500824Z",
          "iopub.status.idle": "2021-12-13T17:55:24.502251Z"
        },
        "trusted": true,
        "id": "v8HWzr3NjhUw"
      },
      "execution_count": null,
      "outputs": []
    },
    {
      "cell_type": "code",
      "source": [
        "import matplotlib.pyplot as plt \n",
        "\n",
        "images = decoder.predict(np.random.randn(1, latent_dims))\n",
        "plt.imshow(images[0])\n",
        "# images.shape"
      ],
      "metadata": {
        "execution": {
          "iopub.status.busy": "2021-12-13T18:23:20.045039Z",
          "iopub.execute_input": "2021-12-13T18:23:20.04549Z",
          "iopub.status.idle": "2021-12-13T18:23:20.267215Z",
          "shell.execute_reply.started": "2021-12-13T18:23:20.045412Z",
          "shell.execute_reply": "2021-12-13T18:23:20.266365Z"
        },
        "trusted": true,
        "id": "Qe-jWicxjhUw"
      },
      "execution_count": null,
      "outputs": []
    },
    {
      "cell_type": "code",
      "source": [
        "la = encoder.predict(punk_data[:])"
      ],
      "metadata": {
        "execution": {
          "iopub.status.busy": "2021-12-13T18:31:54.258037Z",
          "iopub.execute_input": "2021-12-13T18:31:54.258367Z",
          "iopub.status.idle": "2021-12-13T18:31:56.043992Z",
          "shell.execute_reply.started": "2021-12-13T18:31:54.258312Z",
          "shell.execute_reply": "2021-12-13T18:31:56.043172Z"
        },
        "trusted": true,
        "id": "eY7ykkGXjhUw"
      },
      "execution_count": null,
      "outputs": []
    },
    {
      "cell_type": "code",
      "source": [
        "import pickle as pkl \n",
        "pkl.dump(la, open('latent_punk.pkl','wb'))"
      ],
      "metadata": {
        "execution": {
          "iopub.status.busy": "2021-12-13T18:32:58.850034Z",
          "iopub.execute_input": "2021-12-13T18:32:58.850464Z",
          "iopub.status.idle": "2021-12-13T18:32:58.891766Z",
          "shell.execute_reply.started": "2021-12-13T18:32:58.850387Z",
          "shell.execute_reply": "2021-12-13T18:32:58.891064Z"
        },
        "trusted": true,
        "id": "5BKMkNVFjhUw"
      },
      "execution_count": null,
      "outputs": []
    },
    {
      "cell_type": "markdown",
      "source": [
        "## Conclusion\n",
        "\n",
        "Our model has generated the images. Perhaps, I can improve the quality of predictions by adding a lot more encoding and decoding layers. VARIATIONAL AUTOENCODERS ARE GENERATIVE MODELS. THIS SHOWS US HOW CREATIVE A DEEP LEARNING MODEL CAN BE!\n"
      ],
      "metadata": {
        "id": "mukrZ0Y3jhUw"
      }
    }
  ]
}